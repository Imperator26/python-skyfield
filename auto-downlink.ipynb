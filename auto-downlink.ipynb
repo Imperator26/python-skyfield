{
 "cells": [
  {
   "cell_type": "code",
   "execution_count": null,
   "metadata": {},
   "outputs": [],
   "source": [
    "from datetime import datetime, timedelta, timezone\n",
    "\n",
    "from skyfield.api import Loader, Topos\n",
    "from skyfield.almanac import get_satellite_passes"
   ]
  },
  {
   "cell_type": "code",
   "execution_count": null,
   "metadata": {},
   "outputs": [],
   "source": [
    "load = Loader(\"./\", verbose=True, expire=True)\n",
    "\n",
    "# Load timescale\n",
    "ts = load.timescale()\n",
    "\n",
    "# Load planets, get Earth and set the ground station\n",
    "planets = load(\"de421.bsp\")\n",
    "earth = planets[\"earth\"]\n",
    "print(earth)\n",
    "ground_station = Topos('44 N', '11 E', elevation_m=70)\n",
    "\n",
    "# Load satellites\n",
    "satellites = load.tle(\"http://celestrak.com/NORAD/elements/weather.txt\")\n",
    "\n",
    "# Get satellite\n",
    "satellite = satellites[\"NOAA 18\"]\n",
    "print(satellite)"
   ]
  },
  {
   "cell_type": "code",
   "execution_count": null,
   "metadata": {},
   "outputs": [],
   "source": [
    "get_satellite_passes(earth, ground_station, satellite, alt_deg_thresh=15)"
   ]
  }
 ],
 "metadata": {
  "kernelspec": {
   "display_name": "Python 3",
   "language": "python",
   "name": "python3"
  },
  "language_info": {
   "codemirror_mode": {
    "name": "ipython",
    "version": 3
   },
   "file_extension": ".py",
   "mimetype": "text/x-python",
   "name": "python",
   "nbconvert_exporter": "python",
   "pygments_lexer": "ipython3",
   "version": "3.7.3"
  }
 },
 "nbformat": 4,
 "nbformat_minor": 2
}
